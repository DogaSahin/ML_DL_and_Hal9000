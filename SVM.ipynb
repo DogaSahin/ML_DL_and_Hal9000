{
  "nbformat": 4,
  "nbformat_minor": 0,
  "metadata": {
    "colab": {
      "name": "SVM.ipynb",
      "provenance": [],
      "authorship_tag": "ABX9TyO702rWi8g4HTdX+apa9nKV"
    },
    "kernelspec": {
      "name": "python3",
      "display_name": "Python 3"
    },
    "language_info": {
      "name": "python"
    }
  },
  "cells": [
    {
      "cell_type": "markdown",
      "metadata": {
        "id": "LKf-nROQC3qG"
      },
      "source": [
        "# **Support Vector Machines**"
      ]
    },
    {
      "cell_type": "markdown",
      "metadata": {
        "id": "RKhE5xvwC92K"
      },
      "source": [
        "# A SVM classification demonstration with different kernels"
      ]
    },
    {
      "cell_type": "code",
      "metadata": {
        "id": "1KRsk94OC0Ri"
      },
      "source": [
        "from sklearn.metrics import classification_report, confusion_matrix\n",
        "from sklearn.model_selection import train_test_split\n",
        "import matplotlib.pyplot as plt\n",
        "from sklearn import datasets\n",
        "from sklearn.svm import SVC\n",
        "import pandas as pd\n",
        "import numpy as np"
      ],
      "execution_count": null,
      "outputs": []
    },
    {
      "cell_type": "markdown",
      "metadata": {
        "id": "3XTkekybETl3"
      },
      "source": [
        "Classification on breast cancer dataset"
      ]
    },
    {
      "cell_type": "code",
      "metadata": {
        "id": "Ls7YByh0DvhK",
        "colab": {
          "base_uri": "https://localhost:8080/"
        },
        "outputId": "35fa02f2-b241-447a-c9c8-55dfefe5eaf0"
      },
      "source": [
        "cancer = datasets.load_breast_cancer()\n",
        "\n",
        "dataframe1 = pd.DataFrame(cancer.data)\n",
        "print(dataframe1.shape)\n",
        "print(dataframe1.head())\n",
        "\n",
        "X_train, X_test, y_train, y_test = train_test_split(cancer.data, cancer.target, test_size=0.2,random_state = 1)"
      ],
      "execution_count": null,
      "outputs": [
        {
          "output_type": "stream",
          "text": [
            "(569, 30)\n",
            "      0      1       2       3   ...      26      27      28       29\n",
            "0  17.99  10.38  122.80  1001.0  ...  0.7119  0.2654  0.4601  0.11890\n",
            "1  20.57  17.77  132.90  1326.0  ...  0.2416  0.1860  0.2750  0.08902\n",
            "2  19.69  21.25  130.00  1203.0  ...  0.4504  0.2430  0.3613  0.08758\n",
            "3  11.42  20.38   77.58   386.1  ...  0.6869  0.2575  0.6638  0.17300\n",
            "4  20.29  14.34  135.10  1297.0  ...  0.4000  0.1625  0.2364  0.07678\n",
            "\n",
            "[5 rows x 30 columns]\n"
          ],
          "name": "stdout"
        }
      ]
    },
    {
      "cell_type": "code",
      "metadata": {
        "id": "IcaZNMNeEI-L",
        "colab": {
          "base_uri": "https://localhost:8080/"
        },
        "outputId": "a1b55379-49ec-4227-8f87-bb4081566cae"
      },
      "source": [
        "########################## polynomial kernel ####################################\n",
        "poly_svc_classifier = SVC(kernel='poly', degree=8)\n",
        "poly_svc_classifier.fit(X_train, y_train)\n",
        "\n",
        "poly_y_pred = poly_svc_classifier.predict(X_test)\n",
        "\n",
        "# evaluating the algorithm\n",
        "print(\"Confusion matrix for Polynomial kernel SVC\")\n",
        "print(confusion_matrix(y_test, poly_y_pred))\n",
        "print(classification_report(y_test, poly_y_pred))\n",
        "print(\"-----------------------------------------------------------\")\n",
        "\n",
        "############################  gausian kernel  ############################\n",
        "\n",
        "gausian_svc_classifier = SVC(kernel='rbf')\n",
        "gausian_svc_classifier.fit(X_train, y_train)\n",
        "\n",
        "gausian_y_pred = gausian_svc_classifier.predict(X_test)\n",
        "\n",
        "# evaluating the algorithm\n",
        "print(\"Confusion matrix for gausian kernel SVC\")\n",
        "print(confusion_matrix(y_test, gausian_y_pred))\n",
        "print(classification_report(y_test, gausian_y_pred))\n",
        "print(\"-----------------------------------------------------------\")\n",
        "\n",
        "\n",
        "####################### Sigmoid Kernel   ####################################\n",
        "sigmoid_svc_classifier = SVC(kernel='sigmoid')\n",
        "sigmoid_svc_classifier.fit(X_train, y_train)\n",
        "\n",
        "sigmoid_y_pred = sigmoid_svc_classifier.predict(X_test)\n",
        "\n",
        "# evaluating the algorithm\n",
        "print(\"Confusion matrix for sigmoid kernel SVC\")\n",
        "print(confusion_matrix(y_test, sigmoid_y_pred))\n",
        "print(classification_report(y_test, sigmoid_y_pred))"
      ],
      "execution_count": null,
      "outputs": [
        {
          "output_type": "stream",
          "text": [
            "Confusion matrix for Polynomial kernel SVC\n",
            "[[26 16]\n",
            " [ 0 72]]\n",
            "              precision    recall  f1-score   support\n",
            "\n",
            "           0       1.00      0.62      0.76        42\n",
            "           1       0.82      1.00      0.90        72\n",
            "\n",
            "    accuracy                           0.86       114\n",
            "   macro avg       0.91      0.81      0.83       114\n",
            "weighted avg       0.89      0.86      0.85       114\n",
            "\n",
            "-----------------------------------------------------------\n",
            "Confusion matrix for gausian kernel SVC\n",
            "[[31 11]\n",
            " [ 0 72]]\n",
            "              precision    recall  f1-score   support\n",
            "\n",
            "           0       1.00      0.74      0.85        42\n",
            "           1       0.87      1.00      0.93        72\n",
            "\n",
            "    accuracy                           0.90       114\n",
            "   macro avg       0.93      0.87      0.89       114\n",
            "weighted avg       0.92      0.90      0.90       114\n",
            "\n",
            "-----------------------------------------------------------\n",
            "Confusion matrix for sigmoid kernel SVC\n",
            "[[10 32]\n",
            " [34 38]]\n",
            "              precision    recall  f1-score   support\n",
            "\n",
            "           0       0.23      0.24      0.23        42\n",
            "           1       0.54      0.53      0.54        72\n",
            "\n",
            "    accuracy                           0.42       114\n",
            "   macro avg       0.39      0.38      0.38       114\n",
            "weighted avg       0.43      0.42      0.42       114\n",
            "\n"
          ],
          "name": "stdout"
        }
      ]
    },
    {
      "cell_type": "markdown",
      "metadata": {
        "id": "FNevqQ-Hdxxz"
      },
      "source": [
        "Classification on iris dataset"
      ]
    },
    {
      "cell_type": "code",
      "metadata": {
        "colab": {
          "base_uri": "https://localhost:8080/"
        },
        "id": "meUBm1MDd5xw",
        "outputId": "fb934e62-bca3-456d-d1f4-363d245ce864"
      },
      "source": [
        "from sklearn.datasets import load_iris\n",
        "\n",
        "#loading the dataset\n",
        "iris_data = load_iris()\n",
        "dataframe1 = pd.DataFrame(iris_data.data)\n",
        "\n",
        "#arranging the dataset as features and targets\n",
        "X = pd.DataFrame(iris_data.data, columns=iris_data.feature_names)\n",
        "y = iris_data.target\n",
        "\n",
        "#chekking datasets attributes\n",
        "print(dataframe1.head())\n",
        "print(dataframe1.shape)\n",
        "\n",
        "# Splitting as test / train\n",
        "X_train_iris, X_test_iris, y_train_iris, y_test_iris = train_test_split(iris_data.data, iris_data.target, test_size=0.2,random_state=1)"
      ],
      "execution_count": null,
      "outputs": [
        {
          "output_type": "stream",
          "text": [
            "     0    1    2    3\n",
            "0  5.1  3.5  1.4  0.2\n",
            "1  4.9  3.0  1.4  0.2\n",
            "2  4.7  3.2  1.3  0.2\n",
            "3  4.6  3.1  1.5  0.2\n",
            "4  5.0  3.6  1.4  0.2\n",
            "(150, 4)\n"
          ],
          "name": "stdout"
        }
      ]
    },
    {
      "cell_type": "code",
      "metadata": {
        "colab": {
          "base_uri": "https://localhost:8080/"
        },
        "id": "o57nBUU1d0oa",
        "outputId": "244623dd-4349-46ee-8be4-4f350e46b366"
      },
      "source": [
        "########################## polynomial kernel ####################################\n",
        "poly_svc_classifier2 = SVC(kernel='poly', degree=8)\n",
        "poly_svc_classifier2.fit(X_train_iris, y_train_iris)\n",
        "\n",
        "poly_y_pred2 = poly_svc_classifier2.predict(X_test_iris)\n",
        "\n",
        "# evaluating the algorithm\n",
        "print(\"Confusion matrix for Polynomial kernel SVC\")\n",
        "print(confusion_matrix(y_test_iris, poly_y_pred2))\n",
        "print(classification_report(y_test_iris, poly_y_pred2))\n",
        "print(\"-----------------------------------------------------------\")\n",
        "\n",
        "############################  gausian kernel  ############################\n",
        "\n",
        "gausian_svc_classifier = SVC(kernel='rbf')\n",
        "gausian_svc_classifier.fit(X_train_iris, y_train_iris)\n",
        "\n",
        "gausian_y_pred = gausian_svc_classifier.predict(X_test_iris)\n",
        "\n",
        "# evaluating the algorithm\n",
        "print(\"Confusion matrix for gausian kernel SVC\")\n",
        "print(confusion_matrix(y_test_iris, gausian_y_pred))\n",
        "print(classification_report(y_test_iris, gausian_y_pred))\n",
        "print(\"-----------------------------------------------------------\")\n",
        "\n",
        "\n",
        "####################### Sigmoid Kernel   ####################################\n",
        "sigmoid_svc_classifier = SVC(kernel='sigmoid')\n",
        "sigmoid_svc_classifier.fit(X_train_iris, y_train_iris)\n",
        "\n",
        "sigmoid_y_pred = sigmoid_svc_classifier.predict(X_test_iris)\n",
        "\n",
        "# evaluating the algorithm\n",
        "print(\"Confusion matrix for sigmoid kernel SVC\")\n",
        "print(confusion_matrix(y_test_iris, sigmoid_y_pred))\n",
        "print(classification_report(y_test_iris, sigmoid_y_pred))"
      ],
      "execution_count": null,
      "outputs": [
        {
          "output_type": "stream",
          "text": [
            "Confusion matrix for Polynomial kernel SVC\n",
            "[[11  0  0]\n",
            " [ 0 12  1]\n",
            " [ 0  1  5]]\n",
            "              precision    recall  f1-score   support\n",
            "\n",
            "           0       1.00      1.00      1.00        11\n",
            "           1       0.92      0.92      0.92        13\n",
            "           2       0.83      0.83      0.83         6\n",
            "\n",
            "    accuracy                           0.93        30\n",
            "   macro avg       0.92      0.92      0.92        30\n",
            "weighted avg       0.93      0.93      0.93        30\n",
            "\n",
            "-----------------------------------------------------------\n",
            "Confusion matrix for gausian kernel SVC\n",
            "[[11  0  0]\n",
            " [ 0 12  1]\n",
            " [ 0  0  6]]\n",
            "              precision    recall  f1-score   support\n",
            "\n",
            "           0       1.00      1.00      1.00        11\n",
            "           1       1.00      0.92      0.96        13\n",
            "           2       0.86      1.00      0.92         6\n",
            "\n",
            "    accuracy                           0.97        30\n",
            "   macro avg       0.95      0.97      0.96        30\n",
            "weighted avg       0.97      0.97      0.97        30\n",
            "\n",
            "-----------------------------------------------------------\n",
            "Confusion matrix for sigmoid kernel SVC\n",
            "[[ 0  0 11]\n",
            " [ 0  0 13]\n",
            " [ 0  0  6]]\n",
            "              precision    recall  f1-score   support\n",
            "\n",
            "           0       0.00      0.00      0.00        11\n",
            "           1       0.00      0.00      0.00        13\n",
            "           2       0.20      1.00      0.33         6\n",
            "\n",
            "    accuracy                           0.20        30\n",
            "   macro avg       0.07      0.33      0.11        30\n",
            "weighted avg       0.04      0.20      0.07        30\n",
            "\n"
          ],
          "name": "stdout"
        },
        {
          "output_type": "stream",
          "text": [
            "/usr/local/lib/python3.7/dist-packages/sklearn/metrics/_classification.py:1272: UndefinedMetricWarning: Precision and F-score are ill-defined and being set to 0.0 in labels with no predicted samples. Use `zero_division` parameter to control this behavior.\n",
            "  _warn_prf(average, modifier, msg_start, len(result))\n"
          ],
          "name": "stderr"
        }
      ]
    },
    {
      "cell_type": "markdown",
      "metadata": {
        "id": "_JHYGlE2jrAy"
      },
      "source": [
        "Classification on wine dataset"
      ]
    },
    {
      "cell_type": "code",
      "metadata": {
        "colab": {
          "base_uri": "https://localhost:8080/"
        },
        "id": "1oILvjyqklph",
        "outputId": "41192125-b24c-46b1-fc41-b3f2df1dafbb"
      },
      "source": [
        "from sklearn.datasets import load_wine\n",
        "\n",
        "#loading the dataset\n",
        "wine_data = load_wine()\n",
        "dataframe2 = pd.DataFrame(wine_data.data)\n",
        "\n",
        "#arranging the dataset as features and targets\n",
        "X = pd.DataFrame(wine_data.data, columns=wine_data.feature_names)\n",
        "y = wine_data.target\n",
        "\n",
        "#chekking datasets attributes\n",
        "print(dataframe2.head())\n",
        "print(dataframe2.shape)\n",
        "\n",
        "# Splitting as test / train\n",
        "X_train_wine, X_test_wine, y_train_wine, y_test_wine = train_test_split(wine_data.data, wine_data.target, test_size=0.2,random_state=1)"
      ],
      "execution_count": null,
      "outputs": [
        {
          "output_type": "stream",
          "text": [
            "      0     1     2     3      4     5   ...    7     8     9     10    11      12\n",
            "0  14.23  1.71  2.43  15.6  127.0  2.80  ...  0.28  2.29  5.64  1.04  3.92  1065.0\n",
            "1  13.20  1.78  2.14  11.2  100.0  2.65  ...  0.26  1.28  4.38  1.05  3.40  1050.0\n",
            "2  13.16  2.36  2.67  18.6  101.0  2.80  ...  0.30  2.81  5.68  1.03  3.17  1185.0\n",
            "3  14.37  1.95  2.50  16.8  113.0  3.85  ...  0.24  2.18  7.80  0.86  3.45  1480.0\n",
            "4  13.24  2.59  2.87  21.0  118.0  2.80  ...  0.39  1.82  4.32  1.04  2.93   735.0\n",
            "\n",
            "[5 rows x 13 columns]\n",
            "(178, 13)\n"
          ],
          "name": "stdout"
        }
      ]
    },
    {
      "cell_type": "code",
      "metadata": {
        "colab": {
          "base_uri": "https://localhost:8080/"
        },
        "id": "3LuxlLnEk_nq",
        "outputId": "4728ef3f-b6bb-40aa-d9dc-7d3d513bd069"
      },
      "source": [
        "########################## polynomial kernel ####################################\n",
        "poly_svc_classifier = SVC(kernel='poly', degree=8)\n",
        "poly_svc_classifier.fit(X_train_wine, y_train_wine)\n",
        "\n",
        "poly_y_pred = poly_svc_classifier.predict(X_test_wine)\n",
        "\n",
        "# evaluating the algorithm\n",
        "print(\"Confusion matrix for Polynomial kernel SVC\")\n",
        "print(confusion_matrix(y_test_wine, poly_y_pred))\n",
        "print(classification_report(y_test_wine, poly_y_pred))\n",
        "print(\"-----------------------------------------------------------\")\n",
        "\n",
        "############################  gausian kernel  ############################\n",
        "\n",
        "gausian_svc_classifier = SVC(kernel='rbf')\n",
        "gausian_svc_classifier.fit(X_train_wine, y_train_wine)\n",
        "\n",
        "gausian_y_pred = gausian_svc_classifier.predict(X_test_wine)\n",
        "\n",
        "# evaluating the algorithm\n",
        "print(\"Confusion matrix for gausian kernel SVC\")\n",
        "print(confusion_matrix(y_test_wine, gausian_y_pred))\n",
        "print(classification_report(y_test_wine, gausian_y_pred))\n",
        "print(\"-----------------------------------------------------------\")\n",
        "\n",
        "\n",
        "####################### Sigmoid Kernel   ####################################\n",
        "sigmoid_svc_classifier = SVC(kernel='sigmoid')\n",
        "sigmoid_svc_classifier.fit(X_train_wine, y_train_wine)\n",
        "\n",
        "sigmoid_y_pred = sigmoid_svc_classifier.predict(X_test_wine)\n",
        "\n",
        "# evaluating the algorithm\n",
        "print(\"Confusion matrix for sigmoid kernel SVC\")\n",
        "print(confusion_matrix(y_test_wine, sigmoid_y_pred))\n",
        "print(classification_report(y_test_wine, sigmoid_y_pred))"
      ],
      "execution_count": null,
      "outputs": [
        {
          "output_type": "stream",
          "text": [
            "Confusion matrix for Polynomial kernel SVC\n",
            "[[11  2  1]\n",
            " [ 1 12  0]\n",
            " [ 0  9  0]]\n",
            "              precision    recall  f1-score   support\n",
            "\n",
            "           0       0.92      0.79      0.85        14\n",
            "           1       0.52      0.92      0.67        13\n",
            "           2       0.00      0.00      0.00         9\n",
            "\n",
            "    accuracy                           0.64        36\n",
            "   macro avg       0.48      0.57      0.50        36\n",
            "weighted avg       0.54      0.64      0.57        36\n",
            "\n",
            "-----------------------------------------------------------\n",
            "Confusion matrix for gausian kernel SVC\n",
            "[[11  0  3]\n",
            " [ 1 11  1]\n",
            " [ 0  8  1]]\n",
            "              precision    recall  f1-score   support\n",
            "\n",
            "           0       0.92      0.79      0.85        14\n",
            "           1       0.58      0.85      0.69        13\n",
            "           2       0.20      0.11      0.14         9\n",
            "\n",
            "    accuracy                           0.64        36\n",
            "   macro avg       0.57      0.58      0.56        36\n",
            "weighted avg       0.62      0.64      0.61        36\n",
            "\n",
            "-----------------------------------------------------------\n",
            "Confusion matrix for sigmoid kernel SVC\n",
            "[[ 0 14  0]\n",
            " [ 4  9  0]\n",
            " [ 5  4  0]]\n",
            "              precision    recall  f1-score   support\n",
            "\n",
            "           0       0.00      0.00      0.00        14\n",
            "           1       0.33      0.69      0.45        13\n",
            "           2       0.00      0.00      0.00         9\n",
            "\n",
            "    accuracy                           0.25        36\n",
            "   macro avg       0.11      0.23      0.15        36\n",
            "weighted avg       0.12      0.25      0.16        36\n",
            "\n"
          ],
          "name": "stdout"
        },
        {
          "output_type": "stream",
          "text": [
            "/usr/local/lib/python3.7/dist-packages/sklearn/metrics/_classification.py:1272: UndefinedMetricWarning: Precision and F-score are ill-defined and being set to 0.0 in labels with no predicted samples. Use `zero_division` parameter to control this behavior.\n",
            "  _warn_prf(average, modifier, msg_start, len(result))\n"
          ],
          "name": "stderr"
        }
      ]
    }
  ]
}