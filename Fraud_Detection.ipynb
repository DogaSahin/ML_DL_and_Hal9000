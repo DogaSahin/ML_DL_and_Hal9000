{
  "nbformat": 4,
  "nbformat_minor": 0,
  "metadata": {
    "colab": {
      "name": "Fraud_Detection.ipynb",
      "provenance": [],
      "authorship_tag": "ABX9TyOAnR0uD4krPy/Kq1DZYPFA"
    },
    "kernelspec": {
      "name": "python3",
      "display_name": "Python 3"
    },
    "language_info": {
      "name": "python"
    }
  },
  "cells": [
    {
      "cell_type": "markdown",
      "metadata": {
        "id": "m9oeAhss9gDL"
      },
      "source": [
        "#Credit Card Fraud Detection"
      ]
    },
    {
      "cell_type": "code",
      "metadata": {
        "id": "rtdYv2_13wbZ",
        "colab": {
          "base_uri": "https://localhost:8080/",
          "height": 17
        },
        "outputId": "720c171b-1f22-4f9b-f2b9-e20af48ee0a7"
      },
      "source": [
        "#visualisation and preprocessing\n",
        "import pandas as pd \n",
        "import numpy as np\n",
        "import matplotlib\n",
        "import matplotlib.pyplot as plt\n",
        "import seaborn as sns\n",
        "%matplotlib inline \n",
        "import plotly.graph_objs as go\n",
        "import plotly.figure_factory as ff\n",
        "from plotly import tools\n",
        "from plotly.offline import download_plotlyjs, init_notebook_mode, plot, iplot\n",
        "init_notebook_mode(connected=True)\n",
        "\n",
        "import warnings\n",
        "warnings.filterwarnings('ignore')\n",
        "\n",
        "# Metrics and preprocessing\n",
        "from sklearn.model_selection import train_test_split\n",
        "from sklearn.model_selection import KFold\n",
        "from sklearn.metrics import roc_auc_score\n",
        "from sklearn.metrics import f1_score\n",
        "from sklearn.preprocessing import StandardScaler\n",
        "from sklearn import svm\n",
        "import lightgbm as lgb\n",
        "from sklearn import metrics\n",
        "\n",
        "#models\n",
        "from sklearn.ensemble import RandomForestClassifier \n",
        "from sklearn.linear_model import LogisticRegression\n",
        "from sklearn.ensemble import ExtraTreesClassifier\n",
        "from lightgbm import LGBMClassifier\n",
        "from xgboost import XGBClassifier\n",
        "import xgboost as xgb\n",
        "\n",
        "#hypertunning\n",
        "from sklearn.model_selection import GridSearchCV\n",
        "from sklearn.model_selection import StratifiedKFold\n",
        "\n",
        "pd.set_option('display.max_columns', 100)\n",
        "\n",
        "import os"
      ],
      "execution_count": null,
      "outputs": [
        {
          "output_type": "display_data",
          "data": {
            "text/html": [
              "        <script type=\"text/javascript\">\n",
              "        window.PlotlyConfig = {MathJaxConfig: 'local'};\n",
              "        if (window.MathJax) {MathJax.Hub.Config({SVG: {font: \"STIX-Web\"}});}\n",
              "        if (typeof require !== 'undefined') {\n",
              "        require.undef(\"plotly\");\n",
              "        requirejs.config({\n",
              "            paths: {\n",
              "                'plotly': ['https://cdn.plot.ly/plotly-latest.min']\n",
              "            }\n",
              "        });\n",
              "        require(['plotly'], function(Plotly) {\n",
              "            window._Plotly = Plotly;\n",
              "        });\n",
              "        }\n",
              "        </script>\n",
              "        "
            ]
          },
          "metadata": {
            "tags": []
          }
        }
      ]
    },
    {
      "cell_type": "markdown",
      "metadata": {
        "id": "DvuVVI-19cOF"
      },
      "source": [
        "Load the dataset and check its attributes"
      ]
    },
    {
      "cell_type": "code",
      "metadata": {
        "colab": {
          "base_uri": "https://localhost:8080/"
        },
        "id": "ozZp1L4r3_zR",
        "outputId": "8780a224-1b07-4b70-f4f7-579e38a5a38f"
      },
      "source": [
        "df = pd.read_csv(\"creditcard.csv\")\n",
        "print(df.head())\n",
        "print(df.shape)"
      ],
      "execution_count": null,
      "outputs": [
        {
          "output_type": "stream",
          "text": [
            "   Time        V1        V2        V3        V4        V5        V6        V7  \\\n",
            "0   0.0 -1.359807 -0.072781  2.536347  1.378155 -0.338321  0.462388  0.239599   \n",
            "1   0.0  1.191857  0.266151  0.166480  0.448154  0.060018 -0.082361 -0.078803   \n",
            "2   1.0 -1.358354 -1.340163  1.773209  0.379780 -0.503198  1.800499  0.791461   \n",
            "3   1.0 -0.966272 -0.185226  1.792993 -0.863291 -0.010309  1.247203  0.237609   \n",
            "4   2.0 -1.158233  0.877737  1.548718  0.403034 -0.407193  0.095921  0.592941   \n",
            "\n",
            "         V8        V9       V10       V11       V12       V13       V14  \\\n",
            "0  0.098698  0.363787  0.090794 -0.551600 -0.617801 -0.991390 -0.311169   \n",
            "1  0.085102 -0.255425 -0.166974  1.612727  1.065235  0.489095 -0.143772   \n",
            "2  0.247676 -1.514654  0.207643  0.624501  0.066084  0.717293 -0.165946   \n",
            "3  0.377436 -1.387024 -0.054952 -0.226487  0.178228  0.507757 -0.287924   \n",
            "4 -0.270533  0.817739  0.753074 -0.822843  0.538196  1.345852 -1.119670   \n",
            "\n",
            "        V15       V16       V17       V18       V19       V20       V21  \\\n",
            "0  1.468177 -0.470401  0.207971  0.025791  0.403993  0.251412 -0.018307   \n",
            "1  0.635558  0.463917 -0.114805 -0.183361 -0.145783 -0.069083 -0.225775   \n",
            "2  2.345865 -2.890083  1.109969 -0.121359 -2.261857  0.524980  0.247998   \n",
            "3 -0.631418 -1.059647 -0.684093  1.965775 -1.232622 -0.208038 -0.108300   \n",
            "4  0.175121 -0.451449 -0.237033 -0.038195  0.803487  0.408542 -0.009431   \n",
            "\n",
            "        V22       V23       V24       V25       V26       V27       V28  \\\n",
            "0  0.277838 -0.110474  0.066928  0.128539 -0.189115  0.133558 -0.021053   \n",
            "1 -0.638672  0.101288 -0.339846  0.167170  0.125895 -0.008983  0.014724   \n",
            "2  0.771679  0.909412 -0.689281 -0.327642 -0.139097 -0.055353 -0.059752   \n",
            "3  0.005274 -0.190321 -1.175575  0.647376 -0.221929  0.062723  0.061458   \n",
            "4  0.798278 -0.137458  0.141267 -0.206010  0.502292  0.219422  0.215153   \n",
            "\n",
            "   Amount  Class  \n",
            "0  149.62      0  \n",
            "1    2.69      0  \n",
            "2  378.66      0  \n",
            "3  123.50      0  \n",
            "4   69.99      0  \n",
            "(284807, 31)\n"
          ],
          "name": "stdout"
        }
      ]
    },
    {
      "cell_type": "markdown",
      "metadata": {
        "id": "a5GGYF409ppu"
      },
      "source": [
        "Scaling the attributes"
      ]
    },
    {
      "cell_type": "code",
      "metadata": {
        "id": "psfXjEIg7hGV"
      },
      "source": [
        "sc = StandardScaler()\n",
        "df['Amount']=sc.fit_transform(df['Amount'].values.reshape(-1,1))\n",
        "df['Time']=sc.fit_transform(df['Time'].values.reshape(-1,1))"
      ],
      "execution_count": null,
      "outputs": []
    },
    {
      "cell_type": "markdown",
      "metadata": {
        "id": "spdhIDwD9sgt"
      },
      "source": [
        "Check the dataset for imbalance"
      ]
    },
    {
      "cell_type": "code",
      "metadata": {
        "colab": {
          "base_uri": "https://localhost:8080/",
          "height": 296
        },
        "id": "1urWg86e7mKx",
        "outputId": "ee214560-cc17-411b-9c47-e21fbd70a9b3"
      },
      "source": [
        "X = df.iloc[:,:-1]\n",
        "y = df.iloc[:,-1]\n",
        "sns.countplot(y)"
      ],
      "execution_count": null,
      "outputs": [
        {
          "output_type": "execute_result",
          "data": {
            "text/plain": [
              "<matplotlib.axes._subplots.AxesSubplot at 0x7f48992e3190>"
            ]
          },
          "metadata": {
            "tags": []
          },
          "execution_count": 42
        },
        {
          "output_type": "display_data",
          "data": {
            "image/png": "[encoded data removed]",
            "text/plain": [
              "<Figure size 432x288 with 1 Axes>"
            ]
          },
          "metadata": {
            "tags": [],
            "needs_background": "light"
          }
        }
      ]
    },
    {
      "cell_type": "markdown",
      "metadata": {
        "id": "5swacAqU9wlw"
      },
      "source": [
        "Split the data"
      ]
    },
    {
      "cell_type": "code",
      "metadata": {
        "id": "ugUnsDD978BL"
      },
      "source": [
        "X_train, X_test, y_train, y_test = train_test_split(X, y, test_size=0.35, random_state=40, stratify=y)"
      ],
      "execution_count": null,
      "outputs": []
    },
    {
      "cell_type": "markdown",
      "metadata": {
        "id": "6Uu6YLTIM2F9"
      },
      "source": [
        "#Extra Tree Classifier\n"
      ]
    },
    {
      "cell_type": "code",
      "metadata": {
        "id": "0GfzPCZb91Js",
        "colab": {
          "base_uri": "https://localhost:8080/",
          "height": 349
        },
        "outputId": "2097d350-ad32-4f91-88c8-8e1edea0579f"
      },
      "source": [
        "model = ExtraTreesClassifier()\n",
        "model.fit(X,y)\n",
        "y_pred = model.predict(X_test)\n",
        "print(model.feature_importances_)\n",
        "feat_importances = pd.Series(model.feature_importances_, index=X.columns)\n",
        "feat_importances.nlargest(15).plot(kind='barh')\n",
        "plt.show()"
      ],
      "execution_count": null,
      "outputs": [
        {
          "output_type": "stream",
          "text": [
            "[0.01691711 0.01305238 0.01664428 0.03053935 0.03997216 0.01404874\n",
            " 0.01368081 0.02270888 0.01469342 0.03397932 0.06642461 0.07964682\n",
            " 0.13272324 0.01115284 0.10384139 0.01291194 0.05774172 0.14057617\n",
            " 0.04077025 0.01498348 0.01283014 0.01604973 0.01208155 0.00969677\n",
            " 0.01254506 0.01089233 0.01413413 0.01241816 0.01073321 0.01161004]\n"
          ],
          "name": "stdout"
        },
        {
          "output_type": "display_data",
          "data": {
            "image/png": "[encoded data removed]",
            "text/plain": [
              "<Figure size 432x288 with 1 Axes>"
            ]
          },
          "metadata": {
            "tags": [],
            "needs_background": "light"
          }
        }
      ]
    },
    {
      "cell_type": "markdown",
      "metadata": {
        "id": "aVDW2L--NUn4"
      },
      "source": [
        "#Logistic Regression"
      ]
    },
    {
      "cell_type": "code",
      "metadata": {
        "id": "u-qY8QHEKKbu"
      },
      "source": [
        "model = LogisticRegression()\n",
        "model.fit(X_train, y_train)\n",
        "y_pred = model.predict(X_test)"
      ],
      "execution_count": null,
      "outputs": []
    },
    {
      "cell_type": "code",
      "metadata": {
        "colab": {
          "base_uri": "https://localhost:8080/"
        },
        "id": "0NZHjuteNGw5",
        "outputId": "3b6357c2-7a71-46f1-f57e-4656f81b05c6"
      },
      "source": [
        "print(\"Normal Logistic Regression with all columns as features\")\n",
        "print(\"F1 score is {}\".format(f1_score(y_test, y_pred)))\n",
        "fpr, tpr, thresholds = metrics.roc_curve(y_test, y_pred)\n",
        "print(\"AUC is {}\".format(metrics.auc(fpr, tpr)))\n",
        "print(\"Recall is {}\".format(metrics.recall_score(y_test, y_pred)))\n",
        "print(\"Precision is {}\".format(metrics.precision_score(y_test, y_pred)))"
      ],
      "execution_count": null,
      "outputs": [
        {
          "output_type": "stream",
          "text": [
            "Normal Logistic Regression with all columns as features\n",
            "F1 score is 0.6857142857142857\n",
            "AUC is 0.7790094726000842\n",
            "Recall is 0.5581395348837209\n",
            "Precision is 0.8888888888888888\n"
          ],
          "name": "stdout"
        }
      ]
    },
    {
      "cell_type": "markdown",
      "metadata": {
        "id": "qPh3QO0QNb_Z"
      },
      "source": [
        "#Random Forest"
      ]
    },
    {
      "cell_type": "code",
      "metadata": {
        "id": "x6qQBSvzNYE1"
      },
      "source": [
        "clf = RandomForestClassifier()\n",
        "clf.fit(X_train, y_train)\n",
        "y_pred = clf.predict(X_test)"
      ],
      "execution_count": null,
      "outputs": []
    },
    {
      "cell_type": "code",
      "metadata": {
        "colab": {
          "base_uri": "https://localhost:8080/"
        },
        "id": "_BOrGuolNfoQ",
        "outputId": "711fbcae-598d-4940-a988-0a75c5f76d3a"
      },
      "source": [
        "print(\"Random Forest with all columns as features\")\n",
        "print(\"F1 score is {}\".format(f1_score(y_test, y_pred)))\n",
        "fpr, tpr, thresholds = metrics.roc_curve(y_test, y_pred)\n",
        "print(\"AUC is {}\".format(metrics.auc(fpr, tpr)))\n",
        "print(\"Recall is {}\".format(metrics.recall_score(y_test, y_pred)))\n",
        "print(\"Precision is {}\".format(metrics.precision_score(y_test, y_pred)))"
      ],
      "execution_count": null,
      "outputs": [
        {
          "output_type": "stream",
          "text": [
            "Random Forest with all columns as features\n",
            "F1 score is 0.8200000000000001\n",
            "AUC is 0.8575330166841436\n",
            "Recall is 0.7151162790697675\n",
            "Precision is 0.9609375\n"
          ],
          "name": "stdout"
        }
      ]
    },
    {
      "cell_type": "markdown",
      "metadata": {
        "id": "MUB0VJuEPE5k"
      },
      "source": [
        "#XGB"
      ]
    },
    {
      "cell_type": "code",
      "metadata": {
        "id": "YaHxzbT5PESu"
      },
      "source": [
        "xgb_clf = XGBClassifier()\n",
        "xgb_clf.fit(X_train,y_train)\n",
        "y_pred = xgb_clf.predict(X_test)"
      ],
      "execution_count": null,
      "outputs": []
    },
    {
      "cell_type": "code",
      "metadata": {
        "colab": {
          "base_uri": "https://localhost:8080/"
        },
        "id": "05xdaCmPRKAi",
        "outputId": "606b11b9-c0c3-4efa-99a2-b6ff0404c895"
      },
      "source": [
        "print(\"xgboost with all columns as features\")\n",
        "print(\"F1 score is {}\".format(f1_score(y_test, y_pred)))\n",
        "fpr, tpr, thresholds = metrics.roc_curve(y_test, y_pred)\n",
        "print(\"AUC is {}\".format(metrics.auc(fpr, tpr)))\n",
        "print(\"Recall is {}\".format(metrics.recall_score(y_test, y_pred)))\n",
        "print(\"Precision is {}\".format(metrics.precision_score(y_test, y_pred)))"
      ],
      "execution_count": null,
      "outputs": [
        {
          "output_type": "stream",
          "text": [
            "xgboost with all columns as features\n",
            "F1 score is 0.823529411764706\n",
            "AUC is 0.8662388732062576\n",
            "Recall is 0.7325581395348837\n",
            "Precision is 0.9402985074626866\n"
          ],
          "name": "stdout"
        }
      ]
    },
    {
      "cell_type": "markdown",
      "metadata": {
        "id": "awRkKjMTRT2p"
      },
      "source": [
        "Hypertunning\n"
      ]
    },
    {
      "cell_type": "code",
      "metadata": {
        "colab": {
          "base_uri": "https://localhost:8080/"
        },
        "id": "wA6Lewh1RW1q",
        "outputId": "7f90ecd1-92f3-4258-9fe4-cac7a8cd8a43"
      },
      "source": [
        "model = xgb.XGBClassifier()\n",
        "n_estimators = range(50, 100, 50)\n",
        "param_grid = dict(n_estimators=n_estimators)\n",
        "\n",
        "max_depth = range(5, 8, 2)\n",
        "param_grid['max_depth'] = max_depth\n",
        "print(param_grid)"
      ],
      "execution_count": null,
      "outputs": [
        {
          "output_type": "stream",
          "text": [
            "{'n_estimators': range(50, 100, 50), 'max_depth': range(5, 8, 2)}\n"
          ],
          "name": "stdout"
        }
      ]
    },
    {
      "cell_type": "code",
      "metadata": {
        "colab": {
          "base_uri": "https://localhost:8080/"
        },
        "id": "SLsbHKPWRffe",
        "outputId": "409dcc7f-01ed-46fe-b9a1-320a89b4058d"
      },
      "source": [
        "kfold = StratifiedKFold(n_splits=5, shuffle=True, random_state=7)\n",
        "grid_search = GridSearchCV(model, param_grid, scoring=\"neg_log_loss\", n_jobs=-1, cv=kfold,verbose = 3)\n",
        "grid_result = grid_search.fit(X_train,y_train)\n",
        "\n",
        "# summarize results\n",
        "print(\"Best: %f using %s\" % (grid_result.best_score_, grid_result.best_params_))\n",
        "grid_result.best_params_"
      ],
      "execution_count": null,
      "outputs": [
        {
          "output_type": "stream",
          "text": [
            "Fitting 5 folds for each of 2 candidates, totalling 10 fits\n"
          ],
          "name": "stdout"
        },
        {
          "output_type": "stream",
          "text": [
            "[Parallel(n_jobs=-1)]: Using backend LokyBackend with 2 concurrent workers.\n",
            "[Parallel(n_jobs=-1)]: Done  10 out of  10 | elapsed:  4.1min finished\n"
          ],
          "name": "stderr"
        },
        {
          "output_type": "stream",
          "text": [
            "Best: -0.005114 using {'max_depth': 5, 'n_estimators': 50}\n"
          ],
          "name": "stdout"
        },
        {
          "output_type": "execute_result",
          "data": {
            "text/plain": [
              "{'max_depth': 5, 'n_estimators': 50}"
            ]
          },
          "metadata": {
            "tags": []
          },
          "execution_count": 55
        }
      ]
    },
    {
      "cell_type": "code",
      "metadata": {
        "id": "77jqk-YdS6lZ"
      },
      "source": [
        "y_pred = grid_result.best_estimator_.predict(X_test)"
      ],
      "execution_count": null,
      "outputs": []
    },
    {
      "cell_type": "code",
      "metadata": {
        "colab": {
          "base_uri": "https://localhost:8080/"
        },
        "id": "hO9MBVF8TU4c",
        "outputId": "b1754c2e-07e5-4b1f-9edd-78a1b53e1135"
      },
      "source": [
        "print(\"hypertunned xgboost with all columns as features\")\n",
        "print(\"F1 score is {}\".format(f1_score(y_test, y_pred)))\n",
        "fpr, tpr, thresholds = metrics.roc_curve(y_test, y_pred)\n",
        "print(\"AUC is {}\".format(metrics.auc(fpr, tpr)))\n",
        "print(\"Recall is {}\".format(metrics.recall_score(y_test, y_pred)))\n",
        "print(\"Precision is {}\".format(metrics.precision_score(y_test, y_pred)))"
      ],
      "execution_count": null,
      "outputs": [
        {
          "output_type": "stream",
          "text": [
            "hypertunned xgboost with all columns as features\n",
            "F1 score is 0.814569536423841\n",
            "AUC is 0.8575229675438476\n",
            "Recall is 0.7151162790697675\n",
            "Precision is 0.9461538461538461\n"
          ],
          "name": "stdout"
        }
      ]
    },
    {
      "cell_type": "markdown",
      "metadata": {
        "id": "BNIcc32CYBix"
      },
      "source": [
        "Balacing the dataset for a better result"
      ]
    },
    {
      "cell_type": "code",
      "metadata": {
        "colab": {
          "base_uri": "https://localhost:8080/"
        },
        "id": "2ZfLiI1edv2r",
        "outputId": "f6a90362-3375-4665-c5ec-6c4e37b2f9fb"
      },
      "source": [
        "fraud_df = df[df['Class'] ==1]\n",
        "no_of_fraud = fraud_df.shape[0]\n",
        "print(\"Total Fraud in Train Data :\" ,no_of_fraud)\n",
        "\n",
        "no_of_non_fraud = no_of_fraud * 20\n",
        "non_fraud_df = df[df['Class'] ==0].sample(no_of_non_fraud , random_state =2021,replace=True)\n",
        "no_of_non_fraud = non_fraud_df.shape[0]\n",
        "print(\"Total non Fraud in Train Data :\" ,no_of_non_fraud)"
      ],
      "execution_count": 29,
      "outputs": [
        {
          "output_type": "stream",
          "text": [
            "Total Fraud in Train Data : 492\n",
            "Total non Fraud in Train Data : 9840\n"
          ],
          "name": "stdout"
        }
      ]
    },
    {
      "cell_type": "code",
      "metadata": {
        "id": "-Drz_pgG2NrX"
      },
      "source": [
        "train_df = pd.concat([fraud_df,non_fraud_df] , axis =0 )"
      ],
      "execution_count": 30,
      "outputs": []
    },
    {
      "cell_type": "code",
      "metadata": {
        "id": "oCICtHE_bAM6",
        "colab": {
          "base_uri": "https://localhost:8080/"
        },
        "outputId": "f7ea6566-142e-4394-95ea-7dfea8a01893"
      },
      "source": [
        "X = train_df.iloc[:,:-1]\n",
        "y = train_df.iloc[:,-1]\n",
        "print(X.shape)\n",
        "print(y.shape)"
      ],
      "execution_count": 31,
      "outputs": [
        {
          "output_type": "stream",
          "text": [
            "(10332, 30)\n",
            "(10332,)\n"
          ],
          "name": "stdout"
        }
      ]
    },
    {
      "cell_type": "code",
      "metadata": {
        "id": "KPgruJj77iaD"
      },
      "source": [
        "X_train, X_test, y_train, y_test = train_test_split(X,y, test_size=0.2)"
      ],
      "execution_count": 32,
      "outputs": []
    },
    {
      "cell_type": "code",
      "metadata": {
        "colab": {
          "base_uri": "https://localhost:8080/"
        },
        "id": "iA-xxk1TZ3JC",
        "outputId": "51e1a4a4-142a-47e5-f7f4-b56e459c25fc"
      },
      "source": [
        "kfold = StratifiedKFold(n_splits=5, shuffle=True, random_state=7)\n",
        "grid_search = GridSearchCV(model, param_grid, scoring=\"neg_log_loss\", n_jobs=-1, cv=kfold,verbose = 3)\n",
        "grid_result = grid_search.fit(X_train,y_train)\n",
        "\n",
        "# summarize results\n",
        "print(\"Best: %f using %s\" % (grid_result.best_score_, grid_result.best_params_))\n",
        "grid_result.best_params_"
      ],
      "execution_count": 33,
      "outputs": [
        {
          "output_type": "stream",
          "text": [
            "Fitting 5 folds for each of 2 candidates, totalling 10 fits\n"
          ],
          "name": "stdout"
        },
        {
          "output_type": "stream",
          "text": [
            "[Parallel(n_jobs=-1)]: Using backend LokyBackend with 2 concurrent workers.\n",
            "[Parallel(n_jobs=-1)]: Done  10 out of  10 | elapsed:   12.2s finished\n"
          ],
          "name": "stderr"
        },
        {
          "output_type": "stream",
          "text": [
            "Best: -0.038839 using {'max_depth': 7, 'n_estimators': 50}\n"
          ],
          "name": "stdout"
        },
        {
          "output_type": "execute_result",
          "data": {
            "text/plain": [
              "{'max_depth': 7, 'n_estimators': 50}"
            ]
          },
          "metadata": {
            "tags": []
          },
          "execution_count": 33
        }
      ]
    },
    {
      "cell_type": "code",
      "metadata": {
        "id": "vAKi7kYHa0rz"
      },
      "source": [
        "y_pred = grid_result.best_estimator_.predict(X_test)"
      ],
      "execution_count": 34,
      "outputs": []
    },
    {
      "cell_type": "code",
      "metadata": {
        "colab": {
          "base_uri": "https://localhost:8080/"
        },
        "id": "pLpyUfPRFrAj",
        "outputId": "5bfb07de-8963-467f-8ae4-6409b3adf32a"
      },
      "source": [
        "print(\"hypertunned xgboost with balanced dataset\")\n",
        "print(\"F1 score is {}\".format(f1_score(y_test, y_pred)))\n",
        "fpr, tpr, thresholds = metrics.roc_curve(y_test, y_pred)\n",
        "print(\"AUC is {}\".format(metrics.auc(fpr, tpr)))\n",
        "print(\"Recall is {}\".format(metrics.recall_score(y_test, y_pred)))\n",
        "print(\"Precision is {}\".format(metrics.precision_score(y_test, y_pred)))"
      ],
      "execution_count": 35,
      "outputs": [
        {
          "output_type": "stream",
          "text": [
            "hypertunned xgboost with balanced dataset\n",
            "F1 score is 0.9206349206349206\n",
            "AUC is 0.9304387458074393\n",
            "Recall is 0.8613861386138614\n",
            "Precision is 0.9886363636363636\n"
          ],
          "name": "stdout"
        }
      ]
    }
  ]
}