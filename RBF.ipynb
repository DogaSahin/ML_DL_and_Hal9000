{
  "nbformat": 4,
  "nbformat_minor": 0,
  "metadata": {
    "colab": {
      "name": "RBF.ipynb",
      "provenance": [],
      "toc_visible": true,
      "authorship_tag": "ABX9TyOkiy/q2NM+ug7Du831Zz25"
    },
    "kernelspec": {
      "name": "python3",
      "display_name": "Python 3"
    },
    "language_info": {
      "name": "python"
    }
  },
  "cells": [
    {
      "cell_type": "markdown",
      "metadata": {
        "id": "ewy1096WbedP"
      },
      "source": [
        "# Radial Basis Function Neural Networks"
      ]
    },
    {
      "cell_type": "markdown",
      "metadata": {
        "id": "C_3tnOidbbUO"
      },
      "source": [
        "Radial basis networks are an uncommon subtype of neural network that uses radial basis functions as the activation function (instead of the logistic function or ReLU or other linear or nonlinear peers). RBNs can be used for functional approximation.\n"
      ]
    },
    {
      "cell_type": "code",
      "metadata": {
        "id": "9s6EBJlKs5lf"
      },
      "source": [
        "from keras.layers import Dense, Flatten\n",
        "from keras.models import Sequential\n",
        "from keras.losses import binary_crossentropy\n",
        "from keras.layers import Layer\n",
        "from keras import backend as K\n",
        "import pandas as pd\n",
        "import numpy as np\n",
        "\n",
        "from sklearn.datasets import load_iris,load_boston,load_breast_cancer\n",
        "from sklearn.model_selection import train_test_split"
      ],
      "execution_count": 1,
      "outputs": []
    },
    {
      "cell_type": "code",
      "metadata": {
        "id": "P5DUYNIJ2Los"
      },
      "source": [
        "class RBFLayer(Layer):\n",
        "    def __init__(self, units, gamma, **kwargs):\n",
        "        super(RBFLayer, self).__init__(**kwargs)\n",
        "        self.units = units\n",
        "        self.gamma = K.cast_to_floatx(gamma)\n",
        "\n",
        "    def build(self, input_shape):\n",
        "      \n",
        "        self.mu = self.add_weight(name='mu',\n",
        "                                  shape=(int(input_shape[1]), self.units),\n",
        "                                  initializer='uniform',\n",
        "                                  trainable=True)\n",
        "        super(RBFLayer, self).build(input_shape)\n",
        "\n",
        "    def call(self, inputs):\n",
        "        diff = K.expand_dims(inputs) - self.mu\n",
        "        l2 = K.sum(K.pow(diff, 2), axis=1)\n",
        "        res = K.exp(-1 * self.gamma * l2)\n",
        "        return res\n",
        "\n",
        "    def compute_output_shape(self, input_shape):\n",
        "        return (input_shape[0], self.units)"
      ],
      "execution_count": 2,
      "outputs": []
    },
    {
      "cell_type": "code",
      "metadata": {
        "colab": {
          "base_uri": "https://localhost:8080/"
        },
        "id": "7TVqMA7b2Sc9",
        "outputId": "4e1d56bf-a0e1-486d-95a2-e947c853602d"
      },
      "source": [
        "#loading the dataset\n",
        "iris_data = load_iris()\n",
        "dataframe1 = pd.DataFrame(iris_data.data)\n",
        "\n",
        "#chekking datasets attributes\n",
        "print(dataframe1.head())\n",
        "print(dataframe1.shape)\n",
        "\n",
        "#arranging the dataset as features and targets\n",
        "X = pd.DataFrame(iris_data.data, columns=iris_data.feature_names)\n",
        "y = iris_data.target\n",
        "\n",
        "X_train,X_test,y_train,y_test = train_test_split(X.values,y,test_size = 0.2,random_state=0)"
      ],
      "execution_count": 4,
      "outputs": [
        {
          "output_type": "stream",
          "text": [
            "     0    1    2    3\n",
            "0  5.1  3.5  1.4  0.2\n",
            "1  4.9  3.0  1.4  0.2\n",
            "2  4.7  3.2  1.3  0.2\n",
            "3  4.6  3.1  1.5  0.2\n",
            "4  5.0  3.6  1.4  0.2\n",
            "(150, 4)\n"
          ],
          "name": "stdout"
        }
      ]
    },
    {
      "cell_type": "code",
      "metadata": {
        "colab": {
          "base_uri": "https://localhost:8080/"
        },
        "id": "GmUINya32ZOD",
        "outputId": "c7c902bc-97f0-4509-bf08-7ce43721fe9d"
      },
      "source": [
        "model = Sequential()\n",
        "model.add(Flatten(input_shape=(4, )))\n",
        "model.add(RBFLayer(10, 0.5))\n",
        "model.add(Dense(1, activation='sigmoid', name='foo'))\n",
        "\n",
        "model.compile(optimizer='rmsprop', loss=binary_crossentropy,metrics=[\"accuracy\"])\n",
        "model.fit(X, y, batch_size=256, epochs=20)\n"
      ],
      "execution_count": 5,
      "outputs": [
        {
          "output_type": "stream",
          "text": [
            "Epoch 1/20\n",
            "1/1 [==============================] - 1s 670ms/step - loss: 0.6931 - accuracy: 0.3067\n",
            "Epoch 2/20\n",
            "1/1 [==============================] - 0s 4ms/step - loss: 0.6916 - accuracy: 0.3333\n",
            "Epoch 3/20\n",
            "1/1 [==============================] - 0s 6ms/step - loss: 0.6904 - accuracy: 0.3333\n",
            "Epoch 4/20\n",
            "1/1 [==============================] - 0s 7ms/step - loss: 0.6895 - accuracy: 0.3333\n",
            "Epoch 5/20\n",
            "1/1 [==============================] - 0s 5ms/step - loss: 0.6886 - accuracy: 0.3333\n",
            "Epoch 6/20\n",
            "1/1 [==============================] - 0s 5ms/step - loss: 0.6878 - accuracy: 0.3333\n",
            "Epoch 7/20\n",
            "1/1 [==============================] - 0s 4ms/step - loss: 0.6871 - accuracy: 0.3333\n",
            "Epoch 8/20\n",
            "1/1 [==============================] - 0s 5ms/step - loss: 0.6864 - accuracy: 0.3333\n",
            "Epoch 9/20\n",
            "1/1 [==============================] - 0s 5ms/step - loss: 0.6858 - accuracy: 0.3333\n",
            "Epoch 10/20\n",
            "1/1 [==============================] - 0s 4ms/step - loss: 0.6851 - accuracy: 0.3333\n",
            "Epoch 11/20\n",
            "1/1 [==============================] - 0s 3ms/step - loss: 0.6845 - accuracy: 0.3333\n",
            "Epoch 12/20\n",
            "1/1 [==============================] - 0s 3ms/step - loss: 0.6839 - accuracy: 0.3333\n",
            "Epoch 13/20\n",
            "1/1 [==============================] - 0s 5ms/step - loss: 0.6834 - accuracy: 0.3333\n",
            "Epoch 14/20\n",
            "1/1 [==============================] - 0s 6ms/step - loss: 0.6828 - accuracy: 0.3333\n",
            "Epoch 15/20\n",
            "1/1 [==============================] - 0s 4ms/step - loss: 0.6822 - accuracy: 0.3333\n",
            "Epoch 16/20\n",
            "1/1 [==============================] - 0s 3ms/step - loss: 0.6817 - accuracy: 0.3333\n",
            "Epoch 17/20\n",
            "1/1 [==============================] - 0s 5ms/step - loss: 0.6811 - accuracy: 0.3333\n",
            "Epoch 18/20\n",
            "1/1 [==============================] - 0s 3ms/step - loss: 0.6806 - accuracy: 0.3333\n",
            "Epoch 19/20\n",
            "1/1 [==============================] - 0s 3ms/step - loss: 0.6800 - accuracy: 0.3333\n",
            "Epoch 20/20\n",
            "1/1 [==============================] - 0s 3ms/step - loss: 0.6795 - accuracy: 0.3333\n"
          ],
          "name": "stdout"
        },
        {
          "output_type": "execute_result",
          "data": {
            "text/plain": [
              "<tensorflow.python.keras.callbacks.History at 0x7f718a800f10>"
            ]
          },
          "metadata": {
            "tags": []
          },
          "execution_count": 5
        }
      ]
    },
    {
      "cell_type": "code",
      "metadata": {
        "colab": {
          "base_uri": "https://localhost:8080/"
        },
        "id": "DWRWZ-7c2jm5",
        "outputId": "9f3b8fbc-bee8-48ad-b3a4-d51017337dfc"
      },
      "source": [
        "#loading the dataset\n",
        "breast_cancer = load_breast_cancer()\n",
        "dataframe1 = pd.DataFrame(breast_cancer.data)\n",
        "\n",
        "#chekking datasets attributes\n",
        "print(dataframe1.head())\n",
        "print(dataframe1.shape)\n",
        "\n",
        "#arranging the dataset as features and targets\n",
        "X = pd.DataFrame(breast_cancer.data, columns=breast_cancer.feature_names)\n",
        "y = breast_cancer.target\n",
        "X_train,X_test,y_train,y_test = train_test_split(X.values,y,test_size = 0.2,random_state=0)\n"
      ],
      "execution_count": 7,
      "outputs": [
        {
          "output_type": "stream",
          "text": [
            "      0      1       2       3   ...      26      27      28       29\n",
            "0  17.99  10.38  122.80  1001.0  ...  0.7119  0.2654  0.4601  0.11890\n",
            "1  20.57  17.77  132.90  1326.0  ...  0.2416  0.1860  0.2750  0.08902\n",
            "2  19.69  21.25  130.00  1203.0  ...  0.4504  0.2430  0.3613  0.08758\n",
            "3  11.42  20.38   77.58   386.1  ...  0.6869  0.2575  0.6638  0.17300\n",
            "4  20.29  14.34  135.10  1297.0  ...  0.4000  0.1625  0.2364  0.07678\n",
            "\n",
            "[5 rows x 30 columns]\n",
            "(569, 30)\n"
          ],
          "name": "stdout"
        }
      ]
    },
    {
      "cell_type": "code",
      "metadata": {
        "colab": {
          "base_uri": "https://localhost:8080/"
        },
        "id": "_kd5Usxl2nuv",
        "outputId": "f3e7878f-9523-4d2b-f0b6-6e74281d2e8a"
      },
      "source": [
        "model = Sequential()\n",
        "model.add(Flatten(input_shape=(30, )))\n",
        "model.add(RBFLayer(10, 0.1))\n",
        "model.add(Dense(16, activation='relu'))\n",
        "model.add(Dense(32, activation='relu'))\n",
        "model.add(Dense(8, activation='relu'))\n",
        "model.add(Dense(1, activation='sigmoid'))\n",
        "\n",
        "model.compile(optimizer='rmsprop', loss=binary_crossentropy,metrics=[\"accuracy\"])\n",
        "\n",
        "model.fit(X, y, batch_size=10, epochs=10)\n"
      ],
      "execution_count": 8,
      "outputs": [
        {
          "output_type": "stream",
          "text": [
            "Epoch 1/10\n",
            "57/57 [==============================] - 1s 1ms/step - loss: 0.6919 - accuracy: 0.6177\n",
            "Epoch 2/10\n",
            "57/57 [==============================] - 0s 1ms/step - loss: 0.6861 - accuracy: 0.6508\n",
            "Epoch 3/10\n",
            "57/57 [==============================] - 0s 1ms/step - loss: 0.6826 - accuracy: 0.6406\n",
            "Epoch 4/10\n",
            "57/57 [==============================] - 0s 1ms/step - loss: 0.6830 - accuracy: 0.6051\n",
            "Epoch 5/10\n",
            "57/57 [==============================] - 0s 1ms/step - loss: 0.6777 - accuracy: 0.6274\n",
            "Epoch 6/10\n",
            "57/57 [==============================] - 0s 1ms/step - loss: 0.6756 - accuracy: 0.6236\n",
            "Epoch 7/10\n",
            "57/57 [==============================] - 0s 1ms/step - loss: 0.6748 - accuracy: 0.6178\n",
            "Epoch 8/10\n",
            "57/57 [==============================] - 0s 2ms/step - loss: 0.6700 - accuracy: 0.6320\n",
            "Epoch 9/10\n",
            "57/57 [==============================] - 0s 1ms/step - loss: 0.6713 - accuracy: 0.6198\n",
            "Epoch 10/10\n",
            "57/57 [==============================] - 0s 1ms/step - loss: 0.6798 - accuracy: 0.5834\n"
          ],
          "name": "stdout"
        },
        {
          "output_type": "execute_result",
          "data": {
            "text/plain": [
              "<tensorflow.python.keras.callbacks.History at 0x7f718800ac90>"
            ]
          },
          "metadata": {
            "tags": []
          },
          "execution_count": 8
        }
      ]
    }
  ]
}