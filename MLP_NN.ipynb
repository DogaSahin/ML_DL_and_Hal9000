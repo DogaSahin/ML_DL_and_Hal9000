{
  "nbformat": 4,
  "nbformat_minor": 0,
  "metadata": {
    "colab": {
      "name": "MLP_NN.ipynb",
      "provenance": [],
      "authorship_tag": "ABX9TyPlUf/ft9gKVTWxcXoBZNqT"
    },
    "kernelspec": {
      "name": "python3",
      "display_name": "Python 3"
    },
    "language_info": {
      "name": "python"
    }
  },
  "cells": [
    {
      "cell_type": "markdown",
      "metadata": {
        "id": "gbasCgzNtOZ2"
      },
      "source": [
        "# Regression & classification with Multi-layer Perceptron Neural Networks"
      ]
    },
    {
      "cell_type": "code",
      "metadata": {
        "id": "dh-WBfScUfZ-"
      },
      "source": [
        "from sklearn.model_selection import train_test_split\n",
        "from sklearn.preprocessing import StandardScaler\n",
        "from sklearn.neural_network import MLPRegressor\n",
        "from sklearn.neural_network import MLPClassifier\n",
        "from sklearn.model_selection import cross_val_score\n",
        "from sklearn.metrics import plot_confusion_matrix\n",
        "from sklearn.metrics import classification_report\n",
        "from sklearn.model_selection import GridSearchCV\n",
        "import matplotlib.pyplot as plt\n",
        "from sklearn.preprocessing import StandardScaler\n",
        "from sklearn.metrics import r2_score\n",
        "import pandas as pd\n",
        "import numpy as np\n"
      ],
      "execution_count": null,
      "outputs": []
    },
    {
      "cell_type": "markdown",
      "metadata": {
        "id": "tM7d0e6Gz1m4"
      },
      "source": [
        "# Classification"
      ]
    },
    {
      "cell_type": "markdown",
      "metadata": {
        "id": "4xfBZ7Fxtcqf"
      },
      "source": [
        "Dataset preprocessing"
      ]
    },
    {
      "cell_type": "code",
      "metadata": {
        "colab": {
          "base_uri": "https://localhost:8080/"
        },
        "id": "0eLtJquweYHH",
        "outputId": "33a900ff-7cd6-458c-c5ea-be955c571d79"
      },
      "source": [
        "from sklearn.datasets import load_iris\n",
        "\n",
        "#loading the dataset\n",
        "iris_data = load_iris()\n",
        "dataframe1 = pd.DataFrame(iris_data.data)\n",
        "\n",
        "#arranging the dataset as features and targets\n",
        "X = pd.DataFrame(iris_data.data, columns=iris_data.feature_names)\n",
        "y = iris_data.target\n",
        "\n",
        "#chekking datasets attributes\n",
        "print(dataframe1.head())\n",
        "print(dataframe1.shape)\n",
        "print(dataframe1.info())\n",
        "print(dataframe1.describe())"
      ],
      "execution_count": null,
      "outputs": [
        {
          "output_type": "stream",
          "text": [
            "     0    1    2    3\n",
            "0  5.1  3.5  1.4  0.2\n",
            "1  4.9  3.0  1.4  0.2\n",
            "2  4.7  3.2  1.3  0.2\n",
            "3  4.6  3.1  1.5  0.2\n",
            "4  5.0  3.6  1.4  0.2\n",
            "(150, 4)\n",
            "<class 'pandas.core.frame.DataFrame'>\n",
            "RangeIndex: 150 entries, 0 to 149\n",
            "Data columns (total 4 columns):\n",
            " #   Column  Non-Null Count  Dtype  \n",
            "---  ------  --------------  -----  \n",
            " 0   0       150 non-null    float64\n",
            " 1   1       150 non-null    float64\n",
            " 2   2       150 non-null    float64\n",
            " 3   3       150 non-null    float64\n",
            "dtypes: float64(4)\n",
            "memory usage: 4.8 KB\n",
            "None\n",
            "                0           1           2           3\n",
            "count  150.000000  150.000000  150.000000  150.000000\n",
            "mean     5.843333    3.057333    3.758000    1.199333\n",
            "std      0.828066    0.435866    1.765298    0.762238\n",
            "min      4.300000    2.000000    1.000000    0.100000\n",
            "25%      5.100000    2.800000    1.600000    0.300000\n",
            "50%      5.800000    3.000000    4.350000    1.300000\n",
            "75%      6.400000    3.300000    5.100000    1.800000\n",
            "max      7.900000    4.400000    6.900000    2.500000\n"
          ],
          "name": "stdout"
        }
      ]
    },
    {
      "cell_type": "markdown",
      "metadata": {
        "id": "eYfamCgQkGhu"
      },
      "source": [
        "Scaling the Attributes\n"
      ]
    },
    {
      "cell_type": "code",
      "metadata": {
        "id": "edLv0goQec-A"
      },
      "source": [
        "X_train, X_test, y_train, y_test = train_test_split(X,y,random_state=1, test_size=0.2)\n",
        "\n",
        "sc_X = StandardScaler()\n",
        "X_trainscaled=sc_X.fit_transform(X_train)\n",
        "X_testscaled=sc_X.transform(X_test)"
      ],
      "execution_count": null,
      "outputs": []
    },
    {
      "cell_type": "markdown",
      "metadata": {
        "id": "cQoQVKiGkK3g"
      },
      "source": [
        "Training the model with logistic sigmoid hidden layer activation function"
      ]
    },
    {
      "cell_type": "code",
      "metadata": {
        "colab": {
          "base_uri": "https://localhost:8080/",
          "height": 950
        },
        "id": "dg0vY56RhVLO",
        "outputId": "ae741aac-189d-44e0-fff9-cb9f74372d39"
      },
      "source": [
        "#‘logistic’, the logistic sigmoid function, returns f(x) = 1 / (1 + exp(-x)).\n",
        "MLP_clf = MLPClassifier(hidden_layer_sizes=(256,128,64,32),activation=\"logistic\",random_state=1).fit(X_trainscaled, y_train) \n",
        "\n",
        "y_pred=MLP_clf.predict(X_testscaled)\n",
        "print(MLP_clf.score(X_testscaled, y_test))\n",
        "print(classification_report(y_test,y_pred))\n",
        "\n",
        "fig=plot_confusion_matrix(MLP_clf, X_testscaled, y_test,display_labels=[\"Setosa\",\"Versicolor\",\"Virginica\"])\n",
        "fig.figure_.suptitle(\"Confusion Matrix for Iris Dataset\")\n",
        "plt.show()\n",
        "\n",
        "print(\"weights between input and first hidden layer:\")\n",
        "print(MLP_clf.coefs_[0])\n",
        "print(\"\\nweights between first hidden and second hidden layer:\")\n",
        "print(MLP_clf.coefs_[1])"
      ],
      "execution_count": null,
      "outputs": [
        {
          "output_type": "stream",
          "text": [
            "0.2\n",
            "              precision    recall  f1-score   support\n",
            "\n",
            "           0       0.00      0.00      0.00        11\n",
            "           1       0.00      0.00      0.00        13\n",
            "           2       0.20      1.00      0.33         6\n",
            "\n",
            "    accuracy                           0.20        30\n",
            "   macro avg       0.07      0.33      0.11        30\n",
            "weighted avg       0.04      0.20      0.07        30\n",
            "\n"
          ],
          "name": "stdout"
        },
        {
          "output_type": "stream",
          "text": [
            "/usr/local/lib/python3.7/dist-packages/sklearn/metrics/_classification.py:1272: UndefinedMetricWarning: Precision and F-score are ill-defined and being set to 0.0 in labels with no predicted samples. Use `zero_division` parameter to control this behavior.\n",
            "  _warn_prf(average, modifier, msg_start, len(result))\n"
          ],
          "name": "stderr"
        },
        {
          "output_type": "display_data",
          "data": {
            "image/png": "[encoded data removed]",
            "text/plain": [
              "<Figure size 432x288 with 2 Axes>"
            ]
          },
          "metadata": {
            "tags": [],
            "needs_background": "light"
          }
        },
        {
          "output_type": "stream",
          "text": [
            "weights between input and first hidden layer:\n",
            "[[ 0.00725626  0.01767466 -0.0649269  ...  0.06623433  0.04017035\n",
            "   0.08001314]\n",
            " [-0.00763177  0.04456989 -0.05892972 ... -0.03768904 -0.00860119\n",
            "  -0.04890527]\n",
            " [-0.05591586 -0.06911853  0.05152464 ... -0.10201867  0.05968343\n",
            "   0.03366386]\n",
            " [ 0.07351049 -0.01912768  0.07398572 ...  0.00371556  0.0099526\n",
            "   0.08332697]]\n",
            "\n",
            "weights between first hidden and second hidden layer:\n",
            "[[ 0.04780075  0.00485448  0.03672847 ...  0.08229742  0.0321225\n",
            "  -0.01923015]\n",
            " [-0.04763544 -0.05564244  0.01653327 ...  0.05027836 -0.05473399\n",
            "  -0.03535541]\n",
            " [-0.01590126 -0.05719475 -0.0492529  ... -0.0050689  -0.04290545\n",
            "   0.07575497]\n",
            " ...\n",
            " [ 0.04388444 -0.00099551 -0.01792916 ...  0.01286199 -0.04246246\n",
            "  -0.001974  ]\n",
            " [ 0.03064838 -0.00139     0.0139147  ... -0.03599941 -0.04973397\n",
            "   0.08700775]\n",
            " [-0.04261132 -0.07920952  0.01536847 ...  0.02383316 -0.04475956\n",
            "  -0.04348959]]\n"
          ],
          "name": "stdout"
        }
      ]
    },
    {
      "cell_type": "markdown",
      "metadata": {
        "id": "w-uZMPaikQg1"
      },
      "source": [
        "Training the model with rectified linear unit hidden layer activation function"
      ]
    },
    {
      "cell_type": "code",
      "metadata": {
        "id": "pGjcJpOmmZ9w",
        "colab": {
          "base_uri": "https://localhost:8080/",
          "height": 896
        },
        "outputId": "3a550c2d-021c-4760-b21b-e98ecce19c02"
      },
      "source": [
        "#‘relu’, the rectified linear unit function, returns f(x) = max(0, x)\n",
        "MLP_clf = MLPClassifier(hidden_layer_sizes=(256,128,64,32),activation=\"relu\",random_state=1).fit(X_trainscaled, y_train)\n",
        "y_pred=MLP_clf.predict(X_testscaled)\n",
        "\n",
        "\n",
        "print(MLP_clf.score(X_testscaled, y_test))\n",
        "print(classification_report(y_test,y_pred))\n",
        "\n",
        "\n",
        "fig=plot_confusion_matrix(MLP_clf, X_testscaled, y_test,display_labels=[\"Setosa\",\"Versicolor\",\"Virginica\"])\n",
        "fig.figure_.suptitle(\"Confusion Matrix for Iris Dataset\")\n",
        "plt.show()\n",
        "\n",
        "print(\"weights between input and first hidden layer:\")\n",
        "print(MLP_clf.coefs_[0])\n",
        "print(\"\\nweights between first hidden and second hidden layer:\")\n",
        "print(MLP_clf.coefs_[1])"
      ],
      "execution_count": null,
      "outputs": [
        {
          "output_type": "stream",
          "text": [
            "0.9666666666666667\n",
            "              precision    recall  f1-score   support\n",
            "\n",
            "           0       1.00      1.00      1.00        11\n",
            "           1       1.00      0.92      0.96        13\n",
            "           2       0.86      1.00      0.92         6\n",
            "\n",
            "    accuracy                           0.97        30\n",
            "   macro avg       0.95      0.97      0.96        30\n",
            "weighted avg       0.97      0.97      0.97        30\n",
            "\n"
          ],
          "name": "stdout"
        },
        {
          "output_type": "display_data",
          "data": {
            "image/png": "[encoded data removed]",
            "text/plain": [
              "<Figure size 432x288 with 2 Axes>"
            ]
          },
          "metadata": {
            "tags": [],
            "needs_background": "light"
          }
        },
        {
          "output_type": "stream",
          "text": [
            "weights between input and first hidden layer:\n",
            "[[-0.03896267  0.07401138 -0.12882968 ...  0.23190721  0.1704669\n",
            "   0.10634366]\n",
            " [-0.0190693   0.03029681 -0.09792644 ... -0.04372449  0.08961915\n",
            "  -0.07877378]\n",
            " [-0.13161856 -0.07396447  0.08965116 ... -0.17811064  0.14805105\n",
            "   0.07589062]\n",
            " [ 0.09599889  0.01031375  0.11886251 ... -0.0278361   0.01940236\n",
            "   0.14712954]]\n",
            "\n",
            "weights between first hidden and second hidden layer:\n",
            "[[ 7.01869791e-02  4.19840540e-02  6.59836829e-02 ...  1.12574278e-01\n",
            "   8.79122031e-02 -2.65668552e-02]\n",
            " [-9.14639202e-02 -1.06925614e-02  2.28906085e-02 ...  6.05913333e-02\n",
            "  -7.49012468e-02 -6.75198240e-02]\n",
            " [-1.72104484e-02 -9.74765030e-02 -8.84671356e-02 ... -9.65871273e-04\n",
            "  -1.33454041e-02  1.41857890e-01]\n",
            " ...\n",
            " [ 1.20997421e-01  2.49193586e-02 -1.13072592e-01 ...  2.52098743e-06\n",
            "   8.81765446e-02 -1.04190915e-01]\n",
            " [-3.19476988e-02  8.62975790e-03  8.72108926e-02 ... -1.34321131e-02\n",
            "  -2.35404654e-01  2.78895844e-01]\n",
            " [-7.80744571e-02 -1.24436646e-01  4.78638927e-02 ...  1.06593165e-04\n",
            "  -1.06510557e-01 -6.72141852e-02]]\n"
          ],
          "name": "stdout"
        }
      ]
    },
    {
      "cell_type": "markdown",
      "metadata": {
        "id": "77TWz6a93j_j"
      },
      "source": [
        "# Regression"
      ]
    },
    {
      "cell_type": "markdown",
      "metadata": {
        "id": "I2jhLKQ5383I"
      },
      "source": [
        "Loading the dataset"
      ]
    },
    {
      "cell_type": "code",
      "metadata": {
        "colab": {
          "base_uri": "https://localhost:8080/"
        },
        "id": "lgio1ZxKBZ76",
        "outputId": "1a5aaff5-f861-4aec-9dcf-6b2041835a52"
      },
      "source": [
        "from sklearn.datasets import fetch_california_housing\n",
        "\n",
        "\n",
        "cal_housing = fetch_california_housing()\n",
        "X = pd.DataFrame(cal_housing.data,columns=cal_housing.feature_names)\n",
        "y = cal_housing.target\n",
        "\n",
        "\n",
        "dataframe2=pd.DataFrame(cal_housing.data)\n",
        "print(dataframe2.shape)\n",
        "print(dataframe2.head())\n",
        "print(dataframe2.info())\n",
        "print(dataframe2.describe())"
      ],
      "execution_count": null,
      "outputs": [
        {
          "output_type": "stream",
          "text": [
            "Downloading Cal. housing from https://ndownloader.figshare.com/files/5976036 to /root/scikit_learn_data\n"
          ],
          "name": "stderr"
        },
        {
          "output_type": "stream",
          "text": [
            "(20640, 8)\n",
            "        0     1         2         3       4         5      6       7\n",
            "0  8.3252  41.0  6.984127  1.023810   322.0  2.555556  37.88 -122.23\n",
            "1  8.3014  21.0  6.238137  0.971880  2401.0  2.109842  37.86 -122.22\n",
            "2  7.2574  52.0  8.288136  1.073446   496.0  2.802260  37.85 -122.24\n",
            "3  5.6431  52.0  5.817352  1.073059   558.0  2.547945  37.85 -122.25\n",
            "4  3.8462  52.0  6.281853  1.081081   565.0  2.181467  37.85 -122.25\n",
            "<class 'pandas.core.frame.DataFrame'>\n",
            "RangeIndex: 20640 entries, 0 to 20639\n",
            "Data columns (total 8 columns):\n",
            " #   Column  Non-Null Count  Dtype  \n",
            "---  ------  --------------  -----  \n",
            " 0   0       20640 non-null  float64\n",
            " 1   1       20640 non-null  float64\n",
            " 2   2       20640 non-null  float64\n",
            " 3   3       20640 non-null  float64\n",
            " 4   4       20640 non-null  float64\n",
            " 5   5       20640 non-null  float64\n",
            " 6   6       20640 non-null  float64\n",
            " 7   7       20640 non-null  float64\n",
            "dtypes: float64(8)\n",
            "memory usage: 1.3 MB\n",
            "None\n",
            "                  0             1  ...             6             7\n",
            "count  20640.000000  20640.000000  ...  20640.000000  20640.000000\n",
            "mean       3.870671     28.639486  ...     35.631861   -119.569704\n",
            "std        1.899822     12.585558  ...      2.135952      2.003532\n",
            "min        0.499900      1.000000  ...     32.540000   -124.350000\n",
            "25%        2.563400     18.000000  ...     33.930000   -121.800000\n",
            "50%        3.534800     29.000000  ...     34.260000   -118.490000\n",
            "75%        4.743250     37.000000  ...     37.710000   -118.010000\n",
            "max       15.000100     52.000000  ...     41.950000   -114.310000\n",
            "\n",
            "[8 rows x 8 columns]\n"
          ],
          "name": "stdout"
        }
      ]
    },
    {
      "cell_type": "markdown",
      "metadata": {
        "id": "XmAiQajB3bV0"
      },
      "source": [
        "Splitting and scaling the dataset"
      ]
    },
    {
      "cell_type": "code",
      "metadata": {
        "id": "DQS0E59eBiDI"
      },
      "source": [
        "X_train, X_test, y_train, y_test = train_test_split(X, y,random_state=1, test_size=0.2)\n",
        "\n",
        "sc_X = StandardScaler()\n",
        "X_trainscaled=sc_X.fit_transform(X_train)\n",
        "X_testscaled=sc_X.transform(X_test)"
      ],
      "execution_count": null,
      "outputs": []
    },
    {
      "cell_type": "markdown",
      "metadata": {
        "id": "EFxQljNMLdiG"
      },
      "source": [
        "Training the model and printing the r2 score"
      ]
    },
    {
      "cell_type": "code",
      "metadata": {
        "id": "qKqx-CFvd1E0",
        "colab": {
          "base_uri": "https://localhost:8080/"
        },
        "outputId": "35ea07bd-45c9-44ab-f1a8-d292cd8e053f"
      },
      "source": [
        "reg = MLPRegressor(hidden_layer_sizes=(64,64,64),activation=\"relu\" ,random_state=1, max_iter=2000).fit(X_trainscaled, y_train)\n",
        "y_pred=reg.predict(X_testscaled)\n",
        "print(\"The Score with \", (r2_score(y_pred, y_test)))"
      ],
      "execution_count": null,
      "outputs": [
        {
          "output_type": "stream",
          "text": [
            "The Score with  0.7633133194205104\n"
          ],
          "name": "stdout"
        }
      ]
    },
    {
      "cell_type": "code",
      "metadata": {
        "colab": {
          "base_uri": "https://localhost:8080/"
        },
        "id": "AFw66Q4vr5PN",
        "outputId": "01ce9ddb-6f84-4725-fc64-b13f2b384b1f"
      },
      "source": [
        "reg = MLPRegressor(hidden_layer_sizes=(64,64,64),activation=\"logistic\" ,random_state=1, max_iter=2000).fit(X_trainscaled, y_train)\n",
        "y_pred=reg.predict(X_testscaled)\n",
        "print(\"The Score with \", (r2_score(y_pred, y_test)))"
      ],
      "execution_count": null,
      "outputs": [
        {
          "output_type": "stream",
          "text": [
            "The Score with  0.7287532140263422\n"
          ],
          "name": "stdout"
        }
      ]
    }
  ]
}